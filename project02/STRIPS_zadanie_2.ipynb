{
  "nbformat": 4,
  "nbformat_minor": 0,
  "metadata": {
    "colab": {
      "provenance": []
    },
    "kernelspec": {
      "name": "python3",
      "display_name": "Python 3"
    },
    "language_info": {
      "name": "python"
    }
  },
  "cells": [
    {
      "cell_type": "markdown",
      "source": [
        "Autorzy: Diana Misiaczyńska, Emilia Myrta"
      ],
      "metadata": {
        "id": "k_6ab4mfJn2z"
      }
    },
    {
      "cell_type": "markdown",
      "source": [
        "Celem ćwiczenia było zapoznanie się ze **STRIPS** (Stanford Research Institute Problem Solver), czyli językiem formalnym używanym do wyrażania problemów planowania."
      ],
      "metadata": {
        "id": "eEpxAoM-uNvX"
      }
    },
    {
      "cell_type": "markdown",
      "source": [
        "Wszystkie nasze dziedziny oraz problemy planowania wybierałśmy z tych zaproponowanych na [githubie](https://github.com/primaryobjects/strips) przez Kory Becker (z niewielkimi różnicami)."
      ],
      "metadata": {
        "id": "Z_zYe_8s18qM"
      }
    },
    {
      "cell_type": "markdown",
      "source": [
        "W naszej definicji dziedzin i problemów skorzystałyśmy z niektórych gotowych klas z AIPython, m.in. `stripsProblem.py`, `stripsForwardPlanner.py` oraz `searchMPP.py`."
      ],
      "metadata": {
        "id": "TkbPgN4FwnHk"
      }
    },
    {
      "cell_type": "markdown",
      "source": [
        "Import bibliotek i potrzebnych modułów:"
      ],
      "metadata": {
        "id": "xeSEzatlBoyl"
      }
    },
    {
      "cell_type": "code",
      "execution_count": 230,
      "metadata": {
        "id": "rlnzP1iN9xlI"
      },
      "outputs": [],
      "source": [
        "from stripsProblem import *\n",
        "from stripsForwardPlanner import Forward_STRIPS\n",
        "from searchMPP import SearcherMPP\n",
        "import time"
      ]
    },
    {
      "cell_type": "markdown",
      "source": [
        "Za pomocą funkcji `get_actions_from_path(path)` wydobywamy listę akcji z obiektu `Path`, który reprezentuje znalezione rozwiązanie problemu planowania."
      ],
      "metadata": {
        "id": "_1wiBA9JyDZs"
      }
    },
    {
      "cell_type": "code",
      "source": [
        "def get_actions_from_path(path):\n",
        "    actions = []\n",
        "    current = path\n",
        "    while current.arc is not None:\n",
        "        actions.append(current.arc.action)\n",
        "        current = current.initial\n",
        "    actions.reverse()\n",
        "    return actions"
      ],
      "metadata": {
        "id": "KcGhNyFhECz7"
      },
      "execution_count": 231,
      "outputs": []
    },
    {
      "cell_type": "markdown",
      "source": [
        "Poniższa funkcja rozwiązuje zadany problem oraz dwa podcele dla podajnej dziedziny. Oprócz tego liczy czas zarówno dla rozwiązania z heurystyką, jak i bez."
      ],
      "metadata": {
        "id": "Ei1liUyuYT-1"
      }
    },
    {
      "cell_type": "code",
      "source": [
        "def solutions(domain, initial_state, substate1, substate2, goal_state, heur, heuristic = False):\n",
        "  start = time.time()\n",
        "  problem1 = Planning_problem(domain, initial_state, substate1)\n",
        "  solution1 = SearcherMPP(Forward_STRIPS(problem1)).search()\n",
        "  problem2 = Planning_problem(domain, substate1, substate2)\n",
        "  solution2 = SearcherMPP(Forward_STRIPS(problem2)).search()\n",
        "  problem3 = Planning_problem(domain, substate2, goal_state)\n",
        "  if(heuristic):\n",
        "    print(\"-----------------------------------------\")\n",
        "    print(\"Uruchamiam planowanie z heurystyką...\\n\")\n",
        "    print(\"-----------------------------------------\")\n",
        "    solution = SearcherMPP(Forward_STRIPS(problem3, heur)).search()\n",
        "    end = time.time()\n",
        "    if solution:\n",
        "        actions = get_actions_from_path(solution1) + get_actions_from_path(solution2) + get_actions_from_path(solution)\n",
        "        print(\"Znalezione działania:\")\n",
        "        for i, action in enumerate(actions, 1):\n",
        "            print(f\"{i}. {action}\")\n",
        "        print(f\"\\nCzas rozwiązania: {end - start:.4f} sekundy\")\n",
        "        print(f\"Liczba akcji: {len(actions)}\")\n",
        "    else:\n",
        "        print(\"Nie znaleziono rozwiązania.\")\n",
        "  else:\n",
        "    print(\"-----------------------------------------\")\n",
        "    print(\"Uruchamiam planowanie bez heurystyki...\\n\")\n",
        "    print(\"-----------------------------------------\")\n",
        "    solution = SearcherMPP(Forward_STRIPS(problem3)).search()\n",
        "    end = time.time()\n",
        "    if solution:\n",
        "      actions = get_actions_from_path(solution1) + get_actions_from_path(solution2) + get_actions_from_path(solution)\n",
        "      print(\"Znalezione działania:\")\n",
        "      for i, action in enumerate(actions, 1):\n",
        "          print(f\"{i}. {action}\")\n",
        "      print(f\"\\nCzas rozwiązania: {end - start:.4f} sekundy\")\n",
        "      print(f\"Liczba akcji: {len(actions)}\")\n",
        "    else:\n",
        "        print(\"Nie znaleziono rozwiązania.\")"
      ],
      "metadata": {
        "id": "h-BdZMT0XH-7"
      },
      "execution_count": 232,
      "outputs": []
    },
    {
      "cell_type": "markdown",
      "source": [
        "# Problem 1 - Blocks World"
      ],
      "metadata": {
        "id": "DedP2hXrBUtL"
      }
    },
    {
      "cell_type": "markdown",
      "source": [
        "Blocks World to jedna z popularniejszych dziedzin planowania. Składa się ona z różynch klocków, które leżą na stole. W naszym przykładzie dziedzina zawierała trzy bloki: `'a'`, `'b'` oraz `'c'`, a także trzy różne miejsca na stole: `'t1'`, `'t2'` i `'t3'`. Tylko jeden blok może być przestawiany równocześnie.\n"
      ],
      "metadata": {
        "id": "m3qX2BHR5C6f"
      }
    },
    {
      "cell_type": "markdown",
      "source": [
        "Wybrana przez nas heurystyka opisuje ilość klocków na niepoprawnych miejscach:"
      ],
      "metadata": {
        "id": "vmdGrPEOEJR9"
      }
    },
    {
      "cell_type": "code",
      "source": [
        "def h_blocks_distance(state, goal):\n",
        "    return sum(1 for key in goal if state.get(key) != goal[key])"
      ],
      "metadata": {
        "id": "R_W4kJRo_Hyj"
      },
      "execution_count": 257,
      "outputs": []
    },
    {
      "cell_type": "code",
      "source": [
        "blocks = {'a', 'b', 'c'}\n",
        "tables = {'t1', 't2', 't3'}\n",
        "all_places = blocks | tables\n",
        "boolean = {True, False}\n",
        "\n",
        "\n",
        "def on(x): return f\"{x}_on\"\n",
        "def clear(x): return f\"clear_{x}\"\n",
        "\n",
        "\n",
        "actions = set()"
      ],
      "metadata": {
        "id": "Wx4a0bB7_KU8"
      },
      "execution_count": 258,
      "outputs": []
    },
    {
      "cell_type": "markdown",
      "source": [
        "Możliwymi do wykonania akcjami jest przestawianie każdego z bloków `move_{b}_from_{x}_to_{y}` (na których nie leży inny klocek) na inne miejsce - inny klocek lub na stół."
      ],
      "metadata": {
        "id": "sG_P-XOpFRps"
      }
    },
    {
      "cell_type": "code",
      "source": [
        "for b in blocks:\n",
        "    for x in all_places:\n",
        "        for y in all_places:\n",
        "            if x != y and b != x and b != y:\n",
        "                actions.add(Strips(\n",
        "                    name=f\"move_{b}_from_{x}_to_{y}\",\n",
        "                    preconds={on(b): x, clear(b): True, clear(y): True},\n",
        "                    effects={on(b): y, clear(x): True, clear(y): False}\n",
        "                ))\n",
        "\n",
        "feature_domain_dict = {on(b): all_places - {b} for b in blocks}\n",
        "feature_domain_dict.update({clear(p): boolean for p in all_places})\n",
        "blocks_domain = STRIPS_domain(feature_domain_dict, actions)\n"
      ],
      "metadata": {
        "id": "1AlNoGRW_NUb"
      },
      "execution_count": 259,
      "outputs": []
    },
    {
      "cell_type": "markdown",
      "source": [
        "W stanie początkowym na miejscu `'t1'` na stole leżą następujące klocki tworzące wieżę: `'t1'` -> `'c'` -> `'b'` -> `'a'`.\n",
        "\n",
        "Naszym celem jest ułożenie identycznej wieży, lecz na miejscu `'t2'`."
      ],
      "metadata": {
        "id": "IAHL8rUe97hR"
      }
    },
    {
      "cell_type": "code",
      "source": [
        "initial_state = {\n",
        "    on('c'): 't1',\n",
        "    on('b'): 'c',\n",
        "    on('a'): 'b',\n",
        "    clear('a'): True,\n",
        "    clear('b'): False,\n",
        "    clear('c'): False,\n",
        "    clear('t1'): False,\n",
        "    clear('t2'): True,\n",
        "    clear('t3'): True\n",
        "}"
      ],
      "metadata": {
        "id": "6PascH4L_RoK"
      },
      "execution_count": 260,
      "outputs": []
    },
    {
      "cell_type": "code",
      "source": [
        "substate1 = {\n",
        "    on('a'): 't1',\n",
        "    on('b'): 't2',\n",
        "    on('c'): 't3',\n",
        "    clear('a'): True,\n",
        "    clear('b'): True,\n",
        "    clear('c'): True,\n",
        "    clear('t1'): False,\n",
        "    clear('t2'): False,\n",
        "    clear('t3'): False\n",
        "}"
      ],
      "metadata": {
        "id": "ffwWmiSVIMLv"
      },
      "execution_count": 261,
      "outputs": []
    },
    {
      "cell_type": "code",
      "source": [
        "substate2 = {\n",
        "    on('a'): 'b',\n",
        "    on('b'): 'c',\n",
        "    on('c'): 't3',\n",
        "    clear('a'): True,\n",
        "    clear('b'): False,\n",
        "    clear('c'): False,\n",
        "    clear('t1'): True,\n",
        "    clear('t2'): True,\n",
        "    clear('t3'): False\n",
        "}"
      ],
      "metadata": {
        "id": "YkUJRrAHImJx"
      },
      "execution_count": 262,
      "outputs": []
    },
    {
      "cell_type": "code",
      "source": [
        "goal_state = {\n",
        "    on('a'): 'b',\n",
        "    on('b'): 'c',\n",
        "    on('c'): 't2'\n",
        "}"
      ],
      "metadata": {
        "id": "dz5CS6faIJh2"
      },
      "execution_count": 263,
      "outputs": []
    },
    {
      "cell_type": "code",
      "source": [
        "solutions(blocks_domain, initial_state, substate1, substate2, goal_state, h_blocks_distance, True)"
      ],
      "metadata": {
        "colab": {
          "base_uri": "https://localhost:8080/"
        },
        "id": "y36MkH1dOJvQ",
        "outputId": "f7e7c441-3101-4d8b-b7e5-b1de8c48e524"
      },
      "execution_count": 264,
      "outputs": [
        {
          "output_type": "stream",
          "name": "stdout",
          "text": [
            "Solution: {'c_on': 't1', 'b_on': 'c', 'a_on': 'b', 'clear_a': True, 'clear_b': False, 'clear_c': False, 'clear_t1': False, 'clear_t2': True, 'clear_t3': True}\n",
            "   --move_a_from_b_to_t3--> {'c_on': 't1', 'b_on': 'c', 'a_on': 't3', 'clear_a': True, 'clear_b': True, 'clear_c': False, 'clear_t1': False, 'clear_t2': True, 'clear_t3': False}\n",
            "   --move_b_from_c_to_t2--> {'c_on': 't1', 'b_on': 't2', 'a_on': 't3', 'clear_a': True, 'clear_b': True, 'clear_c': True, 'clear_t1': False, 'clear_t2': False, 'clear_t3': False}\n",
            "   --move_a_from_t3_to_b--> {'c_on': 't1', 'b_on': 't2', 'a_on': 'b', 'clear_a': True, 'clear_b': False, 'clear_c': True, 'clear_t1': False, 'clear_t2': False, 'clear_t3': True}\n",
            "   --move_c_from_t1_to_t3--> {'c_on': 't3', 'b_on': 't2', 'a_on': 'b', 'clear_a': True, 'clear_b': False, 'clear_c': True, 'clear_t1': True, 'clear_t2': False, 'clear_t3': False}\n",
            "   --move_a_from_b_to_t1--> {'c_on': 't3', 'b_on': 't2', 'a_on': 't1', 'clear_a': True, 'clear_b': True, 'clear_c': True, 'clear_t1': False, 'clear_t2': False, 'clear_t3': False} (cost: 5)\n",
            " 51 paths have been expanded and 64 paths remain in the frontier\n",
            "Solution: {'a_on': 't1', 'b_on': 't2', 'c_on': 't3', 'clear_a': True, 'clear_b': True, 'clear_c': True, 'clear_t1': False, 'clear_t2': False, 'clear_t3': False}\n",
            "   --move_b_from_t2_to_c--> {'a_on': 't1', 'b_on': 'c', 'c_on': 't3', 'clear_a': True, 'clear_b': True, 'clear_c': False, 'clear_t1': False, 'clear_t2': True, 'clear_t3': False}\n",
            "   --move_a_from_t1_to_b--> {'a_on': 'b', 'b_on': 'c', 'c_on': 't3', 'clear_a': True, 'clear_b': False, 'clear_c': False, 'clear_t1': True, 'clear_t2': True, 'clear_t3': False} (cost: 2)\n",
            " 12 paths have been expanded and 27 paths remain in the frontier\n",
            "-----------------------------------------\n",
            "Uruchamiam planowanie z heurystyką...\n",
            "\n",
            "-----------------------------------------\n",
            "Solution: {'a_on': 'b', 'b_on': 'c', 'c_on': 't3', 'clear_a': True, 'clear_b': False, 'clear_c': False, 'clear_t1': True, 'clear_t2': True, 'clear_t3': False}\n",
            "   --move_a_from_b_to_t1--> {'a_on': 't1', 'b_on': 'c', 'c_on': 't3', 'clear_a': True, 'clear_b': True, 'clear_c': False, 'clear_t1': False, 'clear_t2': True, 'clear_t3': False}\n",
            "   --move_b_from_c_to_a--> {'a_on': 't1', 'b_on': 'a', 'c_on': 't3', 'clear_a': False, 'clear_b': True, 'clear_c': True, 'clear_t1': False, 'clear_t2': True, 'clear_t3': False}\n",
            "   --move_c_from_t3_to_t2--> {'a_on': 't1', 'b_on': 'a', 'c_on': 't2', 'clear_a': False, 'clear_b': True, 'clear_c': True, 'clear_t1': False, 'clear_t2': False, 'clear_t3': True}\n",
            "   --move_b_from_a_to_c--> {'a_on': 't1', 'b_on': 'c', 'c_on': 't2', 'clear_a': True, 'clear_b': True, 'clear_c': False, 'clear_t1': False, 'clear_t2': False, 'clear_t3': True}\n",
            "   --move_a_from_t1_to_b--> {'a_on': 'b', 'b_on': 'c', 'c_on': 't2', 'clear_a': True, 'clear_b': False, 'clear_c': False, 'clear_t1': True, 'clear_t2': False, 'clear_t3': True} (cost: 5)\n",
            " 13 paths have been expanded and 30 paths remain in the frontier\n",
            "Znalezione działania:\n",
            "1. move_a_from_b_to_t3\n",
            "2. move_b_from_c_to_t2\n",
            "3. move_a_from_t3_to_b\n",
            "4. move_c_from_t1_to_t3\n",
            "5. move_a_from_b_to_t1\n",
            "6. move_b_from_t2_to_c\n",
            "7. move_a_from_t1_to_b\n",
            "8. move_a_from_b_to_t1\n",
            "9. move_b_from_c_to_a\n",
            "10. move_c_from_t3_to_t2\n",
            "11. move_b_from_a_to_c\n",
            "12. move_a_from_t1_to_b\n",
            "\n",
            "Czas rozwiązania: 0.0062 sekundy\n",
            "Liczba akcji: 12\n"
          ]
        }
      ]
    },
    {
      "cell_type": "code",
      "source": [
        "solutions(blocks_domain, initial_state, substate1, substate2, goal_state, None, False)"
      ],
      "metadata": {
        "colab": {
          "base_uri": "https://localhost:8080/"
        },
        "id": "UvM4mwq4OMcK",
        "outputId": "e147e3f6-3db0-454d-91fb-8ecb35033998"
      },
      "execution_count": 265,
      "outputs": [
        {
          "output_type": "stream",
          "name": "stdout",
          "text": [
            "Solution: {'c_on': 't1', 'b_on': 'c', 'a_on': 'b', 'clear_a': True, 'clear_b': False, 'clear_c': False, 'clear_t1': False, 'clear_t2': True, 'clear_t3': True}\n",
            "   --move_a_from_b_to_t3--> {'c_on': 't1', 'b_on': 'c', 'a_on': 't3', 'clear_a': True, 'clear_b': True, 'clear_c': False, 'clear_t1': False, 'clear_t2': True, 'clear_t3': False}\n",
            "   --move_b_from_c_to_t2--> {'c_on': 't1', 'b_on': 't2', 'a_on': 't3', 'clear_a': True, 'clear_b': True, 'clear_c': True, 'clear_t1': False, 'clear_t2': False, 'clear_t3': False}\n",
            "   --move_a_from_t3_to_b--> {'c_on': 't1', 'b_on': 't2', 'a_on': 'b', 'clear_a': True, 'clear_b': False, 'clear_c': True, 'clear_t1': False, 'clear_t2': False, 'clear_t3': True}\n",
            "   --move_c_from_t1_to_t3--> {'c_on': 't3', 'b_on': 't2', 'a_on': 'b', 'clear_a': True, 'clear_b': False, 'clear_c': True, 'clear_t1': True, 'clear_t2': False, 'clear_t3': False}\n",
            "   --move_a_from_b_to_t1--> {'c_on': 't3', 'b_on': 't2', 'a_on': 't1', 'clear_a': True, 'clear_b': True, 'clear_c': True, 'clear_t1': False, 'clear_t2': False, 'clear_t3': False} (cost: 5)\n",
            " 51 paths have been expanded and 64 paths remain in the frontier\n",
            "Solution: {'a_on': 't1', 'b_on': 't2', 'c_on': 't3', 'clear_a': True, 'clear_b': True, 'clear_c': True, 'clear_t1': False, 'clear_t2': False, 'clear_t3': False}\n",
            "   --move_b_from_t2_to_c--> {'a_on': 't1', 'b_on': 'c', 'c_on': 't3', 'clear_a': True, 'clear_b': True, 'clear_c': False, 'clear_t1': False, 'clear_t2': True, 'clear_t3': False}\n",
            "   --move_a_from_t1_to_b--> {'a_on': 'b', 'b_on': 'c', 'c_on': 't3', 'clear_a': True, 'clear_b': False, 'clear_c': False, 'clear_t1': True, 'clear_t2': True, 'clear_t3': False} (cost: 2)\n",
            " 12 paths have been expanded and 27 paths remain in the frontier\n",
            "-----------------------------------------\n",
            "Uruchamiam planowanie bez heurystyki...\n",
            "\n",
            "-----------------------------------------\n",
            "Solution: {'a_on': 'b', 'b_on': 'c', 'c_on': 't3', 'clear_a': True, 'clear_b': False, 'clear_c': False, 'clear_t1': True, 'clear_t2': True, 'clear_t3': False}\n",
            "   --move_a_from_b_to_t1--> {'a_on': 't1', 'b_on': 'c', 'c_on': 't3', 'clear_a': True, 'clear_b': True, 'clear_c': False, 'clear_t1': False, 'clear_t2': True, 'clear_t3': False}\n",
            "   --move_b_from_c_to_a--> {'a_on': 't1', 'b_on': 'a', 'c_on': 't3', 'clear_a': False, 'clear_b': True, 'clear_c': True, 'clear_t1': False, 'clear_t2': True, 'clear_t3': False}\n",
            "   --move_c_from_t3_to_t2--> {'a_on': 't1', 'b_on': 'a', 'c_on': 't2', 'clear_a': False, 'clear_b': True, 'clear_c': True, 'clear_t1': False, 'clear_t2': False, 'clear_t3': True}\n",
            "   --move_b_from_a_to_c--> {'a_on': 't1', 'b_on': 'c', 'c_on': 't2', 'clear_a': True, 'clear_b': True, 'clear_c': False, 'clear_t1': False, 'clear_t2': False, 'clear_t3': True}\n",
            "   --move_a_from_t1_to_b--> {'a_on': 'b', 'b_on': 'c', 'c_on': 't2', 'clear_a': True, 'clear_b': False, 'clear_c': False, 'clear_t1': True, 'clear_t2': False, 'clear_t3': True} (cost: 5)\n",
            " 40 paths have been expanded and 63 paths remain in the frontier\n",
            "Znalezione działania:\n",
            "1. move_a_from_b_to_t3\n",
            "2. move_b_from_c_to_t2\n",
            "3. move_a_from_t3_to_b\n",
            "4. move_c_from_t1_to_t3\n",
            "5. move_a_from_b_to_t1\n",
            "6. move_b_from_t2_to_c\n",
            "7. move_a_from_t1_to_b\n",
            "8. move_a_from_b_to_t1\n",
            "9. move_b_from_c_to_a\n",
            "10. move_c_from_t3_to_t2\n",
            "11. move_b_from_a_to_c\n",
            "12. move_a_from_t1_to_b\n",
            "\n",
            "Czas rozwiązania: 0.0114 sekundy\n",
            "Liczba akcji: 12\n"
          ]
        }
      ]
    },
    {
      "cell_type": "markdown",
      "source": [
        "# Problem 2 - Magic World"
      ],
      "metadata": {
        "id": "qc9tqcUcChH6"
      }
    },
    {
      "cell_type": "markdown",
      "source": [
        "Przykład Magic World modeluje scenariusz, w którym gracz musi pokonać potwory i zebrać magiczne składniki z różnych lokalizacji, by stworzyć kulę ognia `has-fireball`. Problem wymaga sekwencji działań takich jak ruch, walka, otwieranie skrzyń i łączenie elementów."
      ],
      "metadata": {
        "id": "joRl20lFHTbT"
      }
    },
    {
      "cell_type": "markdown",
      "source": [
        "Heurystyka opisuje liczbę brakujących cech do celu."
      ],
      "metadata": {
        "id": "7juV1rjzdxFN"
      }
    },
    {
      "cell_type": "code",
      "source": [
        "def h_fireball(state, goal):\n",
        "    cost = 0\n",
        "\n",
        "    if not state.get('has-fire', False):\n",
        "        cost += 3\n",
        "        if not state.get('open_box1', False):\n",
        "            cost += 1\n",
        "        if state.get('guarded_river', True):\n",
        "            cost += 1\n",
        "        if state.get('at_npc') != 'river':\n",
        "            cost += 1\n",
        "\n",
        "    if not state.get('has-earth', False):\n",
        "        cost += 3\n",
        "        if not state.get('open_box2', False):\n",
        "            cost += 1\n",
        "        if state.get('guarded_cave', True):\n",
        "            cost += 1\n",
        "        if state.get('at_npc') != 'cave':\n",
        "            cost += 1\n",
        "\n",
        "    if not state.get('has-fireball', False):\n",
        "        if state.get('has-fire', False) and state.get('has-earth', False):\n",
        "            cost += 1\n",
        "        else:\n",
        "            cost += 0\n",
        "\n",
        "    return cost\n"
      ],
      "metadata": {
        "id": "AmGdnMYEDcL8"
      },
      "execution_count": 242,
      "outputs": []
    },
    {
      "cell_type": "code",
      "source": [
        "locations = {'town', 'field', 'river', 'cave'}\n",
        "monsters = {'ogre', 'dragon'}\n",
        "chests = {'box1', 'box2'}\n",
        "elements = {'reddust', 'browndust'}\n",
        "players = {'npc'}\n",
        "\n",
        "feature_domain = {\n",
        "    'at_npc': locations,\n",
        "    'at_ogre': locations,\n",
        "    'at_dragon': locations,\n",
        "    'guarded_river': boolean,\n",
        "    'guarded_cave': boolean,\n",
        "    'at_box1': locations,\n",
        "    'at_box2': locations,\n",
        "    'open_box1': boolean,\n",
        "    'open_box2': boolean,\n",
        "    'in_reddust': chests,\n",
        "    'in_browndust': chests,\n",
        "    'empty_box1': boolean,\n",
        "    'empty_box2': boolean,\n",
        "    'has-fire': boolean,\n",
        "    'has-earth': boolean,\n",
        "    'has-fireball': boolean\n",
        "}\n",
        "\n",
        "actions = set()"
      ],
      "metadata": {
        "id": "STe38upVEAmx"
      },
      "execution_count": 243,
      "outputs": []
    },
    {
      "cell_type": "markdown",
      "source": [
        "Wśród możliwych akcji znajdują się: przesunięcie gracza z jednego miejsca do innego `move_npc_from_{l1}_to_{l2}`, pokonanie potwora `attack_{monster}_from_{l1}`, otworzenie skrzynki `open_box` oraz zebranie potrzebnych elementów (`collect_fire`, `collect_earth`) do zbudowania kuli ognia `build_fireball`."
      ],
      "metadata": {
        "id": "pvz3_fUhHVoI"
      }
    },
    {
      "cell_type": "code",
      "source": [
        "borders =  {\n",
        "    'town': ['field'],\n",
        "    'field': ['town', 'river'],\n",
        "    'river': ['field', 'cave'],\n",
        "    'cave': ['river']\n",
        "}\n",
        "\n",
        "for l1 in borders:\n",
        "    for l2 in borders[l1]:\n",
        "        actions.add(Strips(\n",
        "            name=f\"move_npc_from_{l1}_to_{l2}\",\n",
        "            preconds={'at_npc': l1, f'guarded_{l2}': False},\n",
        "            effects={'at_npc': l2}\n",
        "        ))\n",
        "\n",
        "for monster, loc in [('ogre', 'river'), ('dragon', 'cave')]:\n",
        "    for l1 in borders[loc]:\n",
        "        actions.add(Strips(\n",
        "            name=f\"attack_{monster}_from_{l1}\",\n",
        "            preconds={'at_npc': l1, f'at_{monster}': loc, f'guarded_{loc}': True},\n",
        "            effects={f'at_{monster}': None, f'guarded_{loc}': False}\n",
        "        ))"
      ],
      "metadata": {
        "id": "tgzNbWj4EO_r"
      },
      "execution_count": 244,
      "outputs": []
    },
    {
      "cell_type": "code",
      "source": [
        "actions.add(Strips(\n",
        "    name=\"open_box1\",\n",
        "    preconds={'at_npc': 'river', 'at_box1': 'river', 'open_box1': False},\n",
        "    effects={'open_box1': True}\n",
        "))\n",
        "actions.add(Strips(\n",
        "    name=\"open_box2\",\n",
        "    preconds={'at_npc': 'cave', 'at_box2': 'cave', 'open_box2': False},\n",
        "    effects={'open_box2': True}\n",
        "))\n",
        "\n",
        "actions.add(Strips(\n",
        "    name=\"collect_fire\",\n",
        "    preconds={'at_npc': 'river', 'at_box1': 'river', 'open_box1': True,\n",
        "              'in_reddust': 'box1', 'empty_box1': False},\n",
        "    effects={'has-fire': True, 'empty_box1': True}\n",
        "))\n",
        "\n",
        "actions.add(Strips(\n",
        "    name=\"collect_earth\",\n",
        "    preconds={'at_npc': 'cave', 'at_box2': 'cave', 'open_box2': True,\n",
        "              'in_browndust': 'box2', 'empty_box2': False},\n",
        "    effects={'has-earth': True, 'empty_box2': True}\n",
        "))\n",
        "\n",
        "actions.add(Strips(\n",
        "    name=\"build_fireball\",\n",
        "    preconds={'has-fire': True, 'has-earth': True},\n",
        "    effects={'has-fireball': True, 'has-fire': False, 'has-earth': False}\n",
        "))"
      ],
      "metadata": {
        "id": "8NL9zn09eNWR"
      },
      "execution_count": 245,
      "outputs": []
    },
    {
      "cell_type": "code",
      "source": [
        "magic_domain = STRIPS_domain(feature_domain, actions)"
      ],
      "metadata": {
        "id": "gbcrFm0AePKS"
      },
      "execution_count": 246,
      "outputs": []
    },
    {
      "cell_type": "markdown",
      "source": [
        "W początkowym stanie gracz znajduje się w mieście `'town'`, rzeka `'river'` oraz jaskinia `'cave'` są strzeżone przez potwory oraz gracz nie posiada żadnych elementów do zbudowania kuli ognia.\n",
        "\n",
        "Naszym stanem docelowym jest posiadanie kuli ognia `has-fireball`."
      ],
      "metadata": {
        "id": "e6jmLrU3JXYf"
      }
    },
    {
      "cell_type": "code",
      "source": [
        "initial_state = {\n",
        "    'at_npc': 'town',\n",
        "    'at_ogre': 'river',\n",
        "    'at_dragon': 'cave',\n",
        "    'guarded_river': True,\n",
        "    'guarded_cave': True,\n",
        "    'guarded_field': False,\n",
        "    'guarded_town': False,\n",
        "    'at_box1': 'river',\n",
        "    'at_box2': 'cave',\n",
        "    'open_box1': False,\n",
        "    'open_box2': False,\n",
        "    'in_reddust': 'box1',\n",
        "    'in_browndust': 'box2',\n",
        "    'empty_box1': False,\n",
        "    'empty_box2': False,\n",
        "    'has-fire': False,\n",
        "    'has-earth': False,\n",
        "    'has-fireball': False\n",
        "}\n",
        "\n",
        "substate1 = {\n",
        "    'at_npc': 'town',\n",
        "    'at_ogre': None,\n",
        "    'at_dragon': 'cave',\n",
        "    'guarded_river': False,\n",
        "    'guarded_cave': True,\n",
        "    'guarded_field': False,\n",
        "    'guarded_town': False,\n",
        "    'at_box1': 'river',\n",
        "    'at_box2': 'cave',\n",
        "    'open_box1': True,\n",
        "    'open_box2': False,\n",
        "    'in_reddust': 'box1',\n",
        "    'in_browndust': 'box2',\n",
        "    'empty_box1': True,\n",
        "    'empty_box2': False,\n",
        "    'has-fire': True,\n",
        "    'has-earth': False,\n",
        "    'has-fireball': False\n",
        "}\n",
        "\n",
        "substate2 = {\n",
        "    'at_npc': 'town',\n",
        "    'at_ogre': None,\n",
        "    'at_dragon': None,\n",
        "    'guarded_river': False,\n",
        "    'guarded_cave': False,\n",
        "    'guarded_field': False,\n",
        "    'guarded_town': False,\n",
        "    'at_box1': 'river',\n",
        "    'at_box2': 'cave',\n",
        "    'open_box1': True,\n",
        "    'open_box2': True,\n",
        "    'in_reddust': 'box1',\n",
        "    'in_browndust': 'box2',\n",
        "    'empty_box1': True,\n",
        "    'empty_box2': True,\n",
        "    'has-fire': True,\n",
        "    'has-earth': True,\n",
        "    'has-fireball': False\n",
        "}\n",
        "\n",
        "goal_state = {\n",
        "    'has-fireball': True\n",
        "}"
      ],
      "metadata": {
        "id": "z0V-4BY1EU6I"
      },
      "execution_count": 247,
      "outputs": []
    },
    {
      "cell_type": "code",
      "source": [
        "solutions(magic_domain, initial_state, substate1, substate2, goal_state, h_fireball, True)"
      ],
      "metadata": {
        "colab": {
          "base_uri": "https://localhost:8080/"
        },
        "id": "UheedBL0QuQS",
        "outputId": "d6f8e71a-3f9e-487b-b21c-c922ddbcc608"
      },
      "execution_count": 248,
      "outputs": [
        {
          "output_type": "stream",
          "name": "stdout",
          "text": [
            "Solution: {'at_npc': 'town', 'at_ogre': 'river', 'at_dragon': 'cave', 'guarded_river': True, 'guarded_cave': True, 'guarded_field': False, 'guarded_town': False, 'at_box1': 'river', 'at_box2': 'cave', 'open_box1': False, 'open_box2': False, 'in_reddust': 'box1', 'in_browndust': 'box2', 'empty_box1': False, 'empty_box2': False, 'has-fire': False, 'has-earth': False, 'has-fireball': False}\n",
            "   --move_npc_from_town_to_field--> {'at_npc': 'field', 'at_ogre': 'river', 'at_dragon': 'cave', 'guarded_river': True, 'guarded_cave': True, 'guarded_field': False, 'guarded_town': False, 'at_box1': 'river', 'at_box2': 'cave', 'open_box1': False, 'open_box2': False, 'in_reddust': 'box1', 'in_browndust': 'box2', 'empty_box1': False, 'empty_box2': False, 'has-fire': False, 'has-earth': False, 'has-fireball': False}\n",
            "   --attack_ogre_from_field--> {'at_npc': 'field', 'at_ogre': None, 'at_dragon': 'cave', 'guarded_river': False, 'guarded_cave': True, 'guarded_field': False, 'guarded_town': False, 'at_box1': 'river', 'at_box2': 'cave', 'open_box1': False, 'open_box2': False, 'in_reddust': 'box1', 'in_browndust': 'box2', 'empty_box1': False, 'empty_box2': False, 'has-fire': False, 'has-earth': False, 'has-fireball': False}\n",
            "   --move_npc_from_field_to_river--> {'at_npc': 'river', 'at_ogre': None, 'at_dragon': 'cave', 'guarded_river': False, 'guarded_cave': True, 'guarded_field': False, 'guarded_town': False, 'at_box1': 'river', 'at_box2': 'cave', 'open_box1': False, 'open_box2': False, 'in_reddust': 'box1', 'in_browndust': 'box2', 'empty_box1': False, 'empty_box2': False, 'has-fire': False, 'has-earth': False, 'has-fireball': False}\n",
            "   --open_box1--> {'at_npc': 'river', 'at_ogre': None, 'at_dragon': 'cave', 'guarded_river': False, 'guarded_cave': True, 'guarded_field': False, 'guarded_town': False, 'at_box1': 'river', 'at_box2': 'cave', 'open_box1': True, 'open_box2': False, 'in_reddust': 'box1', 'in_browndust': 'box2', 'empty_box1': False, 'empty_box2': False, 'has-fire': False, 'has-earth': False, 'has-fireball': False}\n",
            "   --collect_fire--> {'at_npc': 'river', 'at_ogre': None, 'at_dragon': 'cave', 'guarded_river': False, 'guarded_cave': True, 'guarded_field': False, 'guarded_town': False, 'at_box1': 'river', 'at_box2': 'cave', 'open_box1': True, 'open_box2': False, 'in_reddust': 'box1', 'in_browndust': 'box2', 'empty_box1': True, 'empty_box2': False, 'has-fire': True, 'has-earth': False, 'has-fireball': False}\n",
            "   --move_npc_from_river_to_field--> {'at_npc': 'field', 'at_ogre': None, 'at_dragon': 'cave', 'guarded_river': False, 'guarded_cave': True, 'guarded_field': False, 'guarded_town': False, 'at_box1': 'river', 'at_box2': 'cave', 'open_box1': True, 'open_box2': False, 'in_reddust': 'box1', 'in_browndust': 'box2', 'empty_box1': True, 'empty_box2': False, 'has-fire': True, 'has-earth': False, 'has-fireball': False}\n",
            "   --move_npc_from_field_to_town--> {'at_npc': 'town', 'at_ogre': None, 'at_dragon': 'cave', 'guarded_river': False, 'guarded_cave': True, 'guarded_field': False, 'guarded_town': False, 'at_box1': 'river', 'at_box2': 'cave', 'open_box1': True, 'open_box2': False, 'in_reddust': 'box1', 'in_browndust': 'box2', 'empty_box1': True, 'empty_box2': False, 'has-fire': True, 'has-earth': False, 'has-fireball': False} (cost: 7)\n",
            " 24 paths have been expanded and 10 paths remain in the frontier\n",
            "Solution: {'at_npc': 'town', 'at_ogre': None, 'at_dragon': 'cave', 'guarded_river': False, 'guarded_cave': True, 'guarded_field': False, 'guarded_town': False, 'at_box1': 'river', 'at_box2': 'cave', 'open_box1': True, 'open_box2': False, 'in_reddust': 'box1', 'in_browndust': 'box2', 'empty_box1': True, 'empty_box2': False, 'has-fire': True, 'has-earth': False, 'has-fireball': False}\n",
            "   --move_npc_from_town_to_field--> {'at_npc': 'field', 'at_ogre': None, 'at_dragon': 'cave', 'guarded_river': False, 'guarded_cave': True, 'guarded_field': False, 'guarded_town': False, 'at_box1': 'river', 'at_box2': 'cave', 'open_box1': True, 'open_box2': False, 'in_reddust': 'box1', 'in_browndust': 'box2', 'empty_box1': True, 'empty_box2': False, 'has-fire': True, 'has-earth': False, 'has-fireball': False}\n",
            "   --move_npc_from_field_to_river--> {'at_npc': 'river', 'at_ogre': None, 'at_dragon': 'cave', 'guarded_river': False, 'guarded_cave': True, 'guarded_field': False, 'guarded_town': False, 'at_box1': 'river', 'at_box2': 'cave', 'open_box1': True, 'open_box2': False, 'in_reddust': 'box1', 'in_browndust': 'box2', 'empty_box1': True, 'empty_box2': False, 'has-fire': True, 'has-earth': False, 'has-fireball': False}\n",
            "   --attack_dragon_from_river--> {'at_npc': 'river', 'at_ogre': None, 'at_dragon': None, 'guarded_river': False, 'guarded_cave': False, 'guarded_field': False, 'guarded_town': False, 'at_box1': 'river', 'at_box2': 'cave', 'open_box1': True, 'open_box2': False, 'in_reddust': 'box1', 'in_browndust': 'box2', 'empty_box1': True, 'empty_box2': False, 'has-fire': True, 'has-earth': False, 'has-fireball': False}\n",
            "   --move_npc_from_river_to_cave--> {'at_npc': 'cave', 'at_ogre': None, 'at_dragon': None, 'guarded_river': False, 'guarded_cave': False, 'guarded_field': False, 'guarded_town': False, 'at_box1': 'river', 'at_box2': 'cave', 'open_box1': True, 'open_box2': False, 'in_reddust': 'box1', 'in_browndust': 'box2', 'empty_box1': True, 'empty_box2': False, 'has-fire': True, 'has-earth': False, 'has-fireball': False}\n",
            "   --open_box2--> {'at_npc': 'cave', 'at_ogre': None, 'at_dragon': None, 'guarded_river': False, 'guarded_cave': False, 'guarded_field': False, 'guarded_town': False, 'at_box1': 'river', 'at_box2': 'cave', 'open_box1': True, 'open_box2': True, 'in_reddust': 'box1', 'in_browndust': 'box2', 'empty_box1': True, 'empty_box2': False, 'has-fire': True, 'has-earth': False, 'has-fireball': False}\n",
            "   --collect_earth--> {'at_npc': 'cave', 'at_ogre': None, 'at_dragon': None, 'guarded_river': False, 'guarded_cave': False, 'guarded_field': False, 'guarded_town': False, 'at_box1': 'river', 'at_box2': 'cave', 'open_box1': True, 'open_box2': True, 'in_reddust': 'box1', 'in_browndust': 'box2', 'empty_box1': True, 'empty_box2': True, 'has-fire': True, 'has-earth': True, 'has-fireball': False}\n",
            "   --move_npc_from_cave_to_river--> {'at_npc': 'river', 'at_ogre': None, 'at_dragon': None, 'guarded_river': False, 'guarded_cave': False, 'guarded_field': False, 'guarded_town': False, 'at_box1': 'river', 'at_box2': 'cave', 'open_box1': True, 'open_box2': True, 'in_reddust': 'box1', 'in_browndust': 'box2', 'empty_box1': True, 'empty_box2': True, 'has-fire': True, 'has-earth': True, 'has-fireball': False}\n",
            "   --move_npc_from_river_to_field--> {'at_npc': 'field', 'at_ogre': None, 'at_dragon': None, 'guarded_river': False, 'guarded_cave': False, 'guarded_field': False, 'guarded_town': False, 'at_box1': 'river', 'at_box2': 'cave', 'open_box1': True, 'open_box2': True, 'in_reddust': 'box1', 'in_browndust': 'box2', 'empty_box1': True, 'empty_box2': True, 'has-fire': True, 'has-earth': True, 'has-fireball': False}\n",
            "   --move_npc_from_field_to_town--> {'at_npc': 'town', 'at_ogre': None, 'at_dragon': None, 'guarded_river': False, 'guarded_cave': False, 'guarded_field': False, 'guarded_town': False, 'at_box1': 'river', 'at_box2': 'cave', 'open_box1': True, 'open_box2': True, 'in_reddust': 'box1', 'in_browndust': 'box2', 'empty_box1': True, 'empty_box2': True, 'has-fire': True, 'has-earth': True, 'has-fireball': False} (cost: 9)\n",
            " 17 paths have been expanded and 3 paths remain in the frontier\n",
            "-----------------------------------------\n",
            "Uruchamiam planowanie z heurystyką...\n",
            "\n",
            "-----------------------------------------\n",
            "Solution: {'at_npc': 'town', 'at_ogre': None, 'at_dragon': None, 'guarded_river': False, 'guarded_cave': False, 'guarded_field': False, 'guarded_town': False, 'at_box1': 'river', 'at_box2': 'cave', 'open_box1': True, 'open_box2': True, 'in_reddust': 'box1', 'in_browndust': 'box2', 'empty_box1': True, 'empty_box2': True, 'has-fire': True, 'has-earth': True, 'has-fireball': False}\n",
            "   --build_fireball--> {'at_npc': 'town', 'at_ogre': None, 'at_dragon': None, 'guarded_river': False, 'guarded_cave': False, 'guarded_field': False, 'guarded_town': False, 'at_box1': 'river', 'at_box2': 'cave', 'open_box1': True, 'open_box2': True, 'in_reddust': 'box1', 'in_browndust': 'box2', 'empty_box1': True, 'empty_box2': True, 'has-fire': False, 'has-earth': False, 'has-fireball': True} (cost: 1)\n",
            " 5 paths have been expanded and 3 paths remain in the frontier\n",
            "Znalezione działania:\n",
            "1. move_npc_from_town_to_field\n",
            "2. attack_ogre_from_field\n",
            "3. move_npc_from_field_to_river\n",
            "4. open_box1\n",
            "5. collect_fire\n",
            "6. move_npc_from_river_to_field\n",
            "7. move_npc_from_field_to_town\n",
            "8. move_npc_from_town_to_field\n",
            "9. move_npc_from_field_to_river\n",
            "10. attack_dragon_from_river\n",
            "11. move_npc_from_river_to_cave\n",
            "12. open_box2\n",
            "13. collect_earth\n",
            "14. move_npc_from_cave_to_river\n",
            "15. move_npc_from_river_to_field\n",
            "16. move_npc_from_field_to_town\n",
            "17. build_fireball\n",
            "\n",
            "Czas rozwiązania: 0.0025 sekundy\n",
            "Liczba akcji: 17\n"
          ]
        }
      ]
    },
    {
      "cell_type": "code",
      "source": [
        "solutions(magic_domain, initial_state, substate1, substate2, goal_state, None, False)"
      ],
      "metadata": {
        "colab": {
          "base_uri": "https://localhost:8080/"
        },
        "id": "3m1Yba31Q4qy",
        "outputId": "9b8f7117-12e9-4cfa-bc16-1aded0970b28"
      },
      "execution_count": 249,
      "outputs": [
        {
          "output_type": "stream",
          "name": "stdout",
          "text": [
            "Solution: {'at_npc': 'town', 'at_ogre': 'river', 'at_dragon': 'cave', 'guarded_river': True, 'guarded_cave': True, 'guarded_field': False, 'guarded_town': False, 'at_box1': 'river', 'at_box2': 'cave', 'open_box1': False, 'open_box2': False, 'in_reddust': 'box1', 'in_browndust': 'box2', 'empty_box1': False, 'empty_box2': False, 'has-fire': False, 'has-earth': False, 'has-fireball': False}\n",
            "   --move_npc_from_town_to_field--> {'at_npc': 'field', 'at_ogre': 'river', 'at_dragon': 'cave', 'guarded_river': True, 'guarded_cave': True, 'guarded_field': False, 'guarded_town': False, 'at_box1': 'river', 'at_box2': 'cave', 'open_box1': False, 'open_box2': False, 'in_reddust': 'box1', 'in_browndust': 'box2', 'empty_box1': False, 'empty_box2': False, 'has-fire': False, 'has-earth': False, 'has-fireball': False}\n",
            "   --attack_ogre_from_field--> {'at_npc': 'field', 'at_ogre': None, 'at_dragon': 'cave', 'guarded_river': False, 'guarded_cave': True, 'guarded_field': False, 'guarded_town': False, 'at_box1': 'river', 'at_box2': 'cave', 'open_box1': False, 'open_box2': False, 'in_reddust': 'box1', 'in_browndust': 'box2', 'empty_box1': False, 'empty_box2': False, 'has-fire': False, 'has-earth': False, 'has-fireball': False}\n",
            "   --move_npc_from_field_to_river--> {'at_npc': 'river', 'at_ogre': None, 'at_dragon': 'cave', 'guarded_river': False, 'guarded_cave': True, 'guarded_field': False, 'guarded_town': False, 'at_box1': 'river', 'at_box2': 'cave', 'open_box1': False, 'open_box2': False, 'in_reddust': 'box1', 'in_browndust': 'box2', 'empty_box1': False, 'empty_box2': False, 'has-fire': False, 'has-earth': False, 'has-fireball': False}\n",
            "   --open_box1--> {'at_npc': 'river', 'at_ogre': None, 'at_dragon': 'cave', 'guarded_river': False, 'guarded_cave': True, 'guarded_field': False, 'guarded_town': False, 'at_box1': 'river', 'at_box2': 'cave', 'open_box1': True, 'open_box2': False, 'in_reddust': 'box1', 'in_browndust': 'box2', 'empty_box1': False, 'empty_box2': False, 'has-fire': False, 'has-earth': False, 'has-fireball': False}\n",
            "   --collect_fire--> {'at_npc': 'river', 'at_ogre': None, 'at_dragon': 'cave', 'guarded_river': False, 'guarded_cave': True, 'guarded_field': False, 'guarded_town': False, 'at_box1': 'river', 'at_box2': 'cave', 'open_box1': True, 'open_box2': False, 'in_reddust': 'box1', 'in_browndust': 'box2', 'empty_box1': True, 'empty_box2': False, 'has-fire': True, 'has-earth': False, 'has-fireball': False}\n",
            "   --move_npc_from_river_to_field--> {'at_npc': 'field', 'at_ogre': None, 'at_dragon': 'cave', 'guarded_river': False, 'guarded_cave': True, 'guarded_field': False, 'guarded_town': False, 'at_box1': 'river', 'at_box2': 'cave', 'open_box1': True, 'open_box2': False, 'in_reddust': 'box1', 'in_browndust': 'box2', 'empty_box1': True, 'empty_box2': False, 'has-fire': True, 'has-earth': False, 'has-fireball': False}\n",
            "   --move_npc_from_field_to_town--> {'at_npc': 'town', 'at_ogre': None, 'at_dragon': 'cave', 'guarded_river': False, 'guarded_cave': True, 'guarded_field': False, 'guarded_town': False, 'at_box1': 'river', 'at_box2': 'cave', 'open_box1': True, 'open_box2': False, 'in_reddust': 'box1', 'in_browndust': 'box2', 'empty_box1': True, 'empty_box2': False, 'has-fire': True, 'has-earth': False, 'has-fireball': False} (cost: 7)\n",
            " 24 paths have been expanded and 10 paths remain in the frontier\n",
            "Solution: {'at_npc': 'town', 'at_ogre': None, 'at_dragon': 'cave', 'guarded_river': False, 'guarded_cave': True, 'guarded_field': False, 'guarded_town': False, 'at_box1': 'river', 'at_box2': 'cave', 'open_box1': True, 'open_box2': False, 'in_reddust': 'box1', 'in_browndust': 'box2', 'empty_box1': True, 'empty_box2': False, 'has-fire': True, 'has-earth': False, 'has-fireball': False}\n",
            "   --move_npc_from_town_to_field--> {'at_npc': 'field', 'at_ogre': None, 'at_dragon': 'cave', 'guarded_river': False, 'guarded_cave': True, 'guarded_field': False, 'guarded_town': False, 'at_box1': 'river', 'at_box2': 'cave', 'open_box1': True, 'open_box2': False, 'in_reddust': 'box1', 'in_browndust': 'box2', 'empty_box1': True, 'empty_box2': False, 'has-fire': True, 'has-earth': False, 'has-fireball': False}\n",
            "   --move_npc_from_field_to_river--> {'at_npc': 'river', 'at_ogre': None, 'at_dragon': 'cave', 'guarded_river': False, 'guarded_cave': True, 'guarded_field': False, 'guarded_town': False, 'at_box1': 'river', 'at_box2': 'cave', 'open_box1': True, 'open_box2': False, 'in_reddust': 'box1', 'in_browndust': 'box2', 'empty_box1': True, 'empty_box2': False, 'has-fire': True, 'has-earth': False, 'has-fireball': False}\n",
            "   --attack_dragon_from_river--> {'at_npc': 'river', 'at_ogre': None, 'at_dragon': None, 'guarded_river': False, 'guarded_cave': False, 'guarded_field': False, 'guarded_town': False, 'at_box1': 'river', 'at_box2': 'cave', 'open_box1': True, 'open_box2': False, 'in_reddust': 'box1', 'in_browndust': 'box2', 'empty_box1': True, 'empty_box2': False, 'has-fire': True, 'has-earth': False, 'has-fireball': False}\n",
            "   --move_npc_from_river_to_cave--> {'at_npc': 'cave', 'at_ogre': None, 'at_dragon': None, 'guarded_river': False, 'guarded_cave': False, 'guarded_field': False, 'guarded_town': False, 'at_box1': 'river', 'at_box2': 'cave', 'open_box1': True, 'open_box2': False, 'in_reddust': 'box1', 'in_browndust': 'box2', 'empty_box1': True, 'empty_box2': False, 'has-fire': True, 'has-earth': False, 'has-fireball': False}\n",
            "   --open_box2--> {'at_npc': 'cave', 'at_ogre': None, 'at_dragon': None, 'guarded_river': False, 'guarded_cave': False, 'guarded_field': False, 'guarded_town': False, 'at_box1': 'river', 'at_box2': 'cave', 'open_box1': True, 'open_box2': True, 'in_reddust': 'box1', 'in_browndust': 'box2', 'empty_box1': True, 'empty_box2': False, 'has-fire': True, 'has-earth': False, 'has-fireball': False}\n",
            "   --collect_earth--> {'at_npc': 'cave', 'at_ogre': None, 'at_dragon': None, 'guarded_river': False, 'guarded_cave': False, 'guarded_field': False, 'guarded_town': False, 'at_box1': 'river', 'at_box2': 'cave', 'open_box1': True, 'open_box2': True, 'in_reddust': 'box1', 'in_browndust': 'box2', 'empty_box1': True, 'empty_box2': True, 'has-fire': True, 'has-earth': True, 'has-fireball': False}\n",
            "   --move_npc_from_cave_to_river--> {'at_npc': 'river', 'at_ogre': None, 'at_dragon': None, 'guarded_river': False, 'guarded_cave': False, 'guarded_field': False, 'guarded_town': False, 'at_box1': 'river', 'at_box2': 'cave', 'open_box1': True, 'open_box2': True, 'in_reddust': 'box1', 'in_browndust': 'box2', 'empty_box1': True, 'empty_box2': True, 'has-fire': True, 'has-earth': True, 'has-fireball': False}\n",
            "   --move_npc_from_river_to_field--> {'at_npc': 'field', 'at_ogre': None, 'at_dragon': None, 'guarded_river': False, 'guarded_cave': False, 'guarded_field': False, 'guarded_town': False, 'at_box1': 'river', 'at_box2': 'cave', 'open_box1': True, 'open_box2': True, 'in_reddust': 'box1', 'in_browndust': 'box2', 'empty_box1': True, 'empty_box2': True, 'has-fire': True, 'has-earth': True, 'has-fireball': False}\n",
            "   --move_npc_from_field_to_town--> {'at_npc': 'town', 'at_ogre': None, 'at_dragon': None, 'guarded_river': False, 'guarded_cave': False, 'guarded_field': False, 'guarded_town': False, 'at_box1': 'river', 'at_box2': 'cave', 'open_box1': True, 'open_box2': True, 'in_reddust': 'box1', 'in_browndust': 'box2', 'empty_box1': True, 'empty_box2': True, 'has-fire': True, 'has-earth': True, 'has-fireball': False} (cost: 9)\n",
            " 17 paths have been expanded and 3 paths remain in the frontier\n",
            "-----------------------------------------\n",
            "Uruchamiam planowanie bez heurystyki...\n",
            "\n",
            "-----------------------------------------\n",
            "Solution: {'at_npc': 'town', 'at_ogre': None, 'at_dragon': None, 'guarded_river': False, 'guarded_cave': False, 'guarded_field': False, 'guarded_town': False, 'at_box1': 'river', 'at_box2': 'cave', 'open_box1': True, 'open_box2': True, 'in_reddust': 'box1', 'in_browndust': 'box2', 'empty_box1': True, 'empty_box2': True, 'has-fire': True, 'has-earth': True, 'has-fireball': False}\n",
            "   --build_fireball--> {'at_npc': 'town', 'at_ogre': None, 'at_dragon': None, 'guarded_river': False, 'guarded_cave': False, 'guarded_field': False, 'guarded_town': False, 'at_box1': 'river', 'at_box2': 'cave', 'open_box1': True, 'open_box2': True, 'in_reddust': 'box1', 'in_browndust': 'box2', 'empty_box1': True, 'empty_box2': True, 'has-fire': False, 'has-earth': False, 'has-fireball': True} (cost: 1)\n",
            " 3 paths have been expanded and 3 paths remain in the frontier\n",
            "Znalezione działania:\n",
            "1. move_npc_from_town_to_field\n",
            "2. attack_ogre_from_field\n",
            "3. move_npc_from_field_to_river\n",
            "4. open_box1\n",
            "5. collect_fire\n",
            "6. move_npc_from_river_to_field\n",
            "7. move_npc_from_field_to_town\n",
            "8. move_npc_from_town_to_field\n",
            "9. move_npc_from_field_to_river\n",
            "10. attack_dragon_from_river\n",
            "11. move_npc_from_river_to_cave\n",
            "12. open_box2\n",
            "13. collect_earth\n",
            "14. move_npc_from_cave_to_river\n",
            "15. move_npc_from_river_to_field\n",
            "16. move_npc_from_field_to_town\n",
            "17. build_fireball\n",
            "\n",
            "Czas rozwiązania: 0.0048 sekundy\n",
            "Liczba akcji: 17\n"
          ]
        }
      ]
    },
    {
      "cell_type": "markdown",
      "source": [
        "# Problem 3 - Birthday Dinner"
      ],
      "metadata": {
        "id": "ezO-2Um-WWdr"
      }
    },
    {
      "cell_type": "markdown",
      "source": [
        "Przykład Birthday Dinner demonstruje planowanie działań z efektami ubocznymi – niektóre akcje, choć niezbędne, naruszają inne warunki wymagane do osiągnięcia celu. Planowanie polega na znalezieniu odpowiedniej kolejności operacji, np. wyniesienia śmieci, posprzątania, ugotowania obiadu i zapakowania prezentu."
      ],
      "metadata": {
        "id": "Qt_vswdUKzZK"
      }
    },
    {
      "cell_type": "markdown",
      "source": [
        "Heurystyka opisuje liczbę niespełnionych celów."
      ],
      "metadata": {
        "id": "TkJ0E_-AXjdb"
      }
    },
    {
      "cell_type": "code",
      "source": [
        "def h_birthday(state, goal):\n",
        "    cost = 0\n",
        "\n",
        "    if state.get('garbage_x', True):\n",
        "        cost += 1\n",
        "\n",
        "    if not state.get('dinner_x', False):\n",
        "        if not state.get('clean_x', False):\n",
        "            cost += 2\n",
        "        else:\n",
        "            cost += 1\n",
        "\n",
        "    if not state.get('present_x', False):\n",
        "        if not state.get('quiet_x', False):\n",
        "            cost += 2\n",
        "        else:\n",
        "            cost += 1\n",
        "\n",
        "    return cost\n"
      ],
      "metadata": {
        "id": "kKocUKhtWUoU"
      },
      "execution_count": 250,
      "outputs": []
    },
    {
      "cell_type": "code",
      "source": [
        "objects = {'x'}\n",
        "\n",
        "feature_domain = {\n",
        "    'clean_x': boolean,\n",
        "    'quiet_x': boolean,\n",
        "    'garbage_x': boolean,\n",
        "    'dinner_x': boolean,\n",
        "    'present_x': boolean\n",
        "}\n",
        "\n",
        "actions = set()"
      ],
      "metadata": {
        "id": "MR2TUAdEXp1K"
      },
      "execution_count": 251,
      "outputs": []
    },
    {
      "cell_type": "markdown",
      "source": [
        "Możliwymi akcjami jest gotowanie `cook_x`, pakowanie prezentu `wrap_x`, wynoszenie śmieci `carry_x`, wynioszenie śmieci przy pomocy wózka `dolly_x` oraz posprzątanie `clean_up_x`."
      ],
      "metadata": {
        "id": "Hd-qyoVoWLME"
      }
    },
    {
      "cell_type": "code",
      "source": [
        "actions.add(Strips(\n",
        "    name=\"cook_x\",\n",
        "    preconds={'clean_x': True},\n",
        "    effects={'dinner_x': True}\n",
        "))\n",
        "\n",
        "\n",
        "actions.add(Strips(\n",
        "    name=\"wrap_x\",\n",
        "    preconds={'quiet_x': True},\n",
        "    effects={'present_x': True}\n",
        "))\n",
        "\n",
        "\n",
        "actions.add(Strips(\n",
        "    name=\"carry_x\",\n",
        "    preconds={'garbage_x': True},\n",
        "    effects={'garbage_x': False, 'clean_x': False}\n",
        "))\n",
        "\n",
        "\n",
        "actions.add(Strips(\n",
        "    name=\"dolly_x\",\n",
        "    preconds={'garbage_x': True},\n",
        "    effects={'garbage_x': False, 'quiet_x': False}\n",
        "))\n",
        "\n",
        "actions.add(Strips(\n",
        "    name=\"clean_up_x\",\n",
        "    preconds={'clean_x': False},\n",
        "    effects={'clean_x': True}\n",
        "))"
      ],
      "metadata": {
        "id": "B-3sN5NGXvn_"
      },
      "execution_count": 252,
      "outputs": []
    },
    {
      "cell_type": "code",
      "source": [
        "birthday_domain = STRIPS_domain(feature_domain, actions)"
      ],
      "metadata": {
        "id": "Occps2RMXxwA"
      },
      "execution_count": 253,
      "outputs": []
    },
    {
      "cell_type": "markdown",
      "source": [
        "W naszym stanie początkowym śmieci są niewynisione, jest brudno, cicho, kolacje nie jest przygotowana oraz prezent nie jest zapakowany.\n",
        "\n",
        "Naszym celem jest wyniesienie śmieci, przygotowanie kolacji oraz zapakowanie prezentu."
      ],
      "metadata": {
        "id": "wNofkJlQXCaU"
      }
    },
    {
      "cell_type": "code",
      "source": [
        "initial_state = {\n",
        "    'garbage_x': True,\n",
        "    'clean_x': False,\n",
        "    'quiet_x': True,\n",
        "    'dinner_x': False,\n",
        "    'present_x': False\n",
        "}\n",
        "\n",
        "substate1 = {\n",
        "    'garbage_x': True,\n",
        "    'clean_x': True,\n",
        "    'quiet_x': True,\n",
        "    'dinner_x': False,\n",
        "    'present_x': False\n",
        "}\n",
        "\n",
        "substate2 = {\n",
        "    'garbage_x': False,\n",
        "    'clean_x': True,\n",
        "    'quiet_x': True,\n",
        "    'dinner_x': True,\n",
        "    'present_x': False\n",
        "}\n",
        "\n",
        "goal_state = {\n",
        "    'garbage_x': False,\n",
        "    'dinner_x': True,\n",
        "    'present_x': True\n",
        "}\n",
        "\n",
        "birthday_problem = Planning_problem(birthday_domain, initial_state, goal_state)"
      ],
      "metadata": {
        "id": "Zkvq8CcXX0Xk"
      },
      "execution_count": 254,
      "outputs": []
    },
    {
      "cell_type": "code",
      "source": [
        "solutions(birthday_domain, initial_state, substate1, substate2, goal_state, h_birthday, True)"
      ],
      "metadata": {
        "colab": {
          "base_uri": "https://localhost:8080/"
        },
        "id": "JsysV2w7WPMZ",
        "outputId": "f6dedb2a-8bda-434a-ced0-037f0f54d567"
      },
      "execution_count": 255,
      "outputs": [
        {
          "output_type": "stream",
          "name": "stdout",
          "text": [
            "Solution: {'garbage_x': True, 'clean_x': False, 'quiet_x': True, 'dinner_x': False, 'present_x': False}\n",
            "   --clean_up_x--> {'garbage_x': True, 'clean_x': True, 'quiet_x': True, 'dinner_x': False, 'present_x': False} (cost: 1)\n",
            " 5 paths have been expanded and 7 paths remain in the frontier\n",
            "Solution: {'garbage_x': True, 'clean_x': True, 'quiet_x': True, 'dinner_x': False, 'present_x': False}\n",
            "   --carry_x--> {'garbage_x': False, 'clean_x': False, 'quiet_x': True, 'dinner_x': False, 'present_x': False}\n",
            "   --clean_up_x--> {'garbage_x': False, 'clean_x': True, 'quiet_x': True, 'dinner_x': False, 'present_x': False}\n",
            "   --cook_x--> {'garbage_x': False, 'clean_x': True, 'quiet_x': True, 'dinner_x': True, 'present_x': False} (cost: 3)\n",
            " 14 paths have been expanded and 12 paths remain in the frontier\n",
            "-----------------------------------------\n",
            "Uruchamiam planowanie z heurystyką...\n",
            "\n",
            "-----------------------------------------\n",
            "Solution: {'garbage_x': False, 'clean_x': True, 'quiet_x': True, 'dinner_x': True, 'present_x': False}\n",
            "   --wrap_x--> {'garbage_x': False, 'clean_x': True, 'quiet_x': True, 'dinner_x': True, 'present_x': True} (cost: 1)\n",
            " 2 paths have been expanded and 1 paths remain in the frontier\n",
            "Znalezione działania:\n",
            "1. clean_up_x\n",
            "2. carry_x\n",
            "3. clean_up_x\n",
            "4. cook_x\n",
            "5. wrap_x\n",
            "\n",
            "Czas rozwiązania: 0.0012 sekundy\n",
            "Liczba akcji: 5\n"
          ]
        }
      ]
    },
    {
      "cell_type": "code",
      "source": [
        "solutions(birthday_domain, initial_state, substate1, substate2, goal_state, None, False)"
      ],
      "metadata": {
        "colab": {
          "base_uri": "https://localhost:8080/"
        },
        "id": "8YpbBa0zWUDe",
        "outputId": "243e473b-8f99-491f-dd14-350e324c6323"
      },
      "execution_count": 256,
      "outputs": [
        {
          "output_type": "stream",
          "name": "stdout",
          "text": [
            "Solution: {'garbage_x': True, 'clean_x': False, 'quiet_x': True, 'dinner_x': False, 'present_x': False}\n",
            "   --clean_up_x--> {'garbage_x': True, 'clean_x': True, 'quiet_x': True, 'dinner_x': False, 'present_x': False} (cost: 1)\n",
            " 5 paths have been expanded and 7 paths remain in the frontier\n",
            "Solution: {'garbage_x': True, 'clean_x': True, 'quiet_x': True, 'dinner_x': False, 'present_x': False}\n",
            "   --carry_x--> {'garbage_x': False, 'clean_x': False, 'quiet_x': True, 'dinner_x': False, 'present_x': False}\n",
            "   --clean_up_x--> {'garbage_x': False, 'clean_x': True, 'quiet_x': True, 'dinner_x': False, 'present_x': False}\n",
            "   --cook_x--> {'garbage_x': False, 'clean_x': True, 'quiet_x': True, 'dinner_x': True, 'present_x': False} (cost: 3)\n",
            " 14 paths have been expanded and 12 paths remain in the frontier\n",
            "-----------------------------------------\n",
            "Uruchamiam planowanie bez heurystyki...\n",
            "\n",
            "-----------------------------------------\n",
            "Solution: {'garbage_x': False, 'clean_x': True, 'quiet_x': True, 'dinner_x': True, 'present_x': False}\n",
            "   --wrap_x--> {'garbage_x': False, 'clean_x': True, 'quiet_x': True, 'dinner_x': True, 'present_x': True} (cost: 1)\n",
            " 2 paths have been expanded and 1 paths remain in the frontier\n",
            "Znalezione działania:\n",
            "1. clean_up_x\n",
            "2. carry_x\n",
            "3. clean_up_x\n",
            "4. cook_x\n",
            "5. wrap_x\n",
            "\n",
            "Czas rozwiązania: 0.0022 sekundy\n",
            "Liczba akcji: 5\n"
          ]
        }
      ]
    }
  ]
}